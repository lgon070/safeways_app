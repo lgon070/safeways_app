{
 "cells": [
  {
   "cell_type": "code",
   "execution_count": 1,
   "metadata": {},
   "outputs": [],
   "source": [
    "# The following line will import LogisticRegression and DecisionTreeClassifier Classes\n",
    "\n",
    "from sklearn.linear_model import LogisticRegression\n",
    "from sklearn.neighbors import KNeighborsClassifier\n",
    "from sklearn.tree import DecisionTreeClassifier\n",
    "from sklearn.metrics import accuracy_score\n",
    "from sklearn.preprocessing import OneHotEncoder"
   ]
  },
  {
   "cell_type": "code",
   "execution_count": 2,
   "metadata": {},
   "outputs": [],
   "source": [
    "# Importing the required packages and libraries\n",
    "# we will need numpy and pandas later\n",
    "import numpy as np\n",
    "import pandas as pd\n"
   ]
  },
  {
   "cell_type": "markdown",
   "metadata": {},
   "source": [
    "# Part A"
   ]
  },
  {
   "cell_type": "code",
   "execution_count": 3,
   "metadata": {},
   "outputs": [
    {
     "name": "stderr",
     "output_type": "stream",
     "text": [
      "C:\\Users\\ehern\\anaconda3\\lib\\site-packages\\IPython\\core\\interactiveshell.py:3071: DtypeWarning: Columns (35,36,37,45,62) have mixed types.Specify dtype option on import or set low_memory=False.\n",
      "  has_raised = await self.run_ast_nodes(code_ast.body, cell_name,\n"
     ]
    }
   ],
   "source": [
    "# reading a CSV file directly from Web, and store it in a pandas DataFrame:\n",
    "# \"read_csv\" is a pandas function to read csv files from web or local device:\n",
    "\n",
    "sw_df = pd.read_csv(\"D:/Users/ehern/Desktop/Senior Design/Collisions_2012-2018__SWITRS_.csv\")"
   ]
  },
  {
   "cell_type": "markdown",
   "metadata": {},
   "source": [
    "# Part B"
   ]
  },
  {
   "cell_type": "code",
   "execution_count": 4,
   "metadata": {},
   "outputs": [
    {
     "data": {
      "text/html": [
       "<div>\n",
       "<style scoped>\n",
       "    .dataframe tbody tr th:only-of-type {\n",
       "        vertical-align: middle;\n",
       "    }\n",
       "\n",
       "    .dataframe tbody tr th {\n",
       "        vertical-align: top;\n",
       "    }\n",
       "\n",
       "    .dataframe thead th {\n",
       "        text-align: right;\n",
       "    }\n",
       "</style>\n",
       "<table border=\"1\" class=\"dataframe\">\n",
       "  <thead>\n",
       "    <tr style=\"text-align: right;\">\n",
       "      <th></th>\n",
       "      <th>X</th>\n",
       "      <th>Y</th>\n",
       "      <th>OBJECTID</th>\n",
       "      <th>case_id</th>\n",
       "      <th>accident_year</th>\n",
       "      <th>proc_date</th>\n",
       "      <th>juris</th>\n",
       "      <th>collision_date</th>\n",
       "      <th>collision_time</th>\n",
       "      <th>officer_id</th>\n",
       "      <th>...</th>\n",
       "      <th>month_</th>\n",
       "      <th>city</th>\n",
       "      <th>county</th>\n",
       "      <th>state</th>\n",
       "      <th>point_x</th>\n",
       "      <th>point_y</th>\n",
       "      <th>match_addr</th>\n",
       "      <th>m_primaryrd</th>\n",
       "      <th>m_secondrd</th>\n",
       "      <th>int_id</th>\n",
       "    </tr>\n",
       "  </thead>\n",
       "  <tbody>\n",
       "    <tr>\n",
       "      <th>0</th>\n",
       "      <td>-118.448792</td>\n",
       "      <td>34.221439</td>\n",
       "      <td>1</td>\n",
       "      <td>6403396.0</td>\n",
       "      <td>2014</td>\n",
       "      <td>2015/03/03 00:00:00+00</td>\n",
       "      <td>1942</td>\n",
       "      <td>2014/03/10 00:00:00+00</td>\n",
       "      <td>820</td>\n",
       "      <td>40735.0</td>\n",
       "      <td>...</td>\n",
       "      <td>3</td>\n",
       "      <td>LOS ANGELES</td>\n",
       "      <td>LOS ANGELES</td>\n",
       "      <td>CA</td>\n",
       "      <td>-118.448792</td>\n",
       "      <td>34.221439</td>\n",
       "      <td>VAN NUYS BLVD &amp; ROSCOE BLVD, LOS ANGELES, CA</td>\n",
       "      <td>VAN NUYS BLVD</td>\n",
       "      <td>ROSCOE BLVD</td>\n",
       "      <td>104975.0</td>\n",
       "    </tr>\n",
       "    <tr>\n",
       "      <th>10</th>\n",
       "      <td>-118.387816</td>\n",
       "      <td>34.207829</td>\n",
       "      <td>11</td>\n",
       "      <td>6869261.0</td>\n",
       "      <td>2015</td>\n",
       "      <td>2015/04/18 00:00:00+00</td>\n",
       "      <td>1942</td>\n",
       "      <td>2015/03/24 00:00:00+00</td>\n",
       "      <td>735</td>\n",
       "      <td>39724.0</td>\n",
       "      <td>...</td>\n",
       "      <td>3</td>\n",
       "      <td>LOS ANGELES</td>\n",
       "      <td>LOS ANGELES</td>\n",
       "      <td>CA</td>\n",
       "      <td>-118.387816</td>\n",
       "      <td>34.207829</td>\n",
       "      <td>LANKERSHIM BLVD &amp; SATICOY ST, LOS ANGELES, CA</td>\n",
       "      <td>LANKERSHIM BLVD</td>\n",
       "      <td>SATICOY ST</td>\n",
       "      <td>118685.0</td>\n",
       "    </tr>\n",
       "    <tr>\n",
       "      <th>20</th>\n",
       "      <td>-118.450022</td>\n",
       "      <td>34.307835</td>\n",
       "      <td>21</td>\n",
       "      <td>6403353.0</td>\n",
       "      <td>2014</td>\n",
       "      <td>2015/03/02 00:00:00+00</td>\n",
       "      <td>1942</td>\n",
       "      <td>2014/03/11 00:00:00+00</td>\n",
       "      <td>732</td>\n",
       "      <td>33340.0</td>\n",
       "      <td>...</td>\n",
       "      <td>3</td>\n",
       "      <td>LOS ANGELES</td>\n",
       "      <td>LOS ANGELES</td>\n",
       "      <td>CA</td>\n",
       "      <td>-118.450022</td>\n",
       "      <td>34.307835</td>\n",
       "      <td>GLENOAKS BLVD &amp; POLK ST, LOS ANGELES, CA</td>\n",
       "      <td>GLENOAKS BLVD</td>\n",
       "      <td>POLK ST</td>\n",
       "      <td>115671.0</td>\n",
       "    </tr>\n",
       "    <tr>\n",
       "      <th>30</th>\n",
       "      <td>-118.277772</td>\n",
       "      <td>33.982395</td>\n",
       "      <td>31</td>\n",
       "      <td>6364839.0</td>\n",
       "      <td>2014</td>\n",
       "      <td>2015/01/06 00:00:00+00</td>\n",
       "      <td>1942</td>\n",
       "      <td>2014/01/26 00:00:00+00</td>\n",
       "      <td>210</td>\n",
       "      <td>31080.0</td>\n",
       "      <td>...</td>\n",
       "      <td>1</td>\n",
       "      <td>LOS ANGELES</td>\n",
       "      <td>LOS ANGELES</td>\n",
       "      <td>CA</td>\n",
       "      <td>-118.277772</td>\n",
       "      <td>33.982395</td>\n",
       "      <td>GAGE AVE &amp; BROADWAY, LOS ANGELES, CA</td>\n",
       "      <td>GAGE AVE</td>\n",
       "      <td>BROADWAY</td>\n",
       "      <td>106643.0</td>\n",
       "    </tr>\n",
       "    <tr>\n",
       "      <th>40</th>\n",
       "      <td>-118.472951</td>\n",
       "      <td>34.081326</td>\n",
       "      <td>41</td>\n",
       "      <td>7186311.0</td>\n",
       "      <td>2016</td>\n",
       "      <td>2016/03/03 00:00:00+00</td>\n",
       "      <td>1942</td>\n",
       "      <td>2016/01/20 00:00:00+00</td>\n",
       "      <td>600</td>\n",
       "      <td>41578.0</td>\n",
       "      <td>...</td>\n",
       "      <td>1</td>\n",
       "      <td>LOS ANGELES</td>\n",
       "      <td>LOS ANGELES</td>\n",
       "      <td>CA</td>\n",
       "      <td>-118.472951</td>\n",
       "      <td>34.081326</td>\n",
       "      <td>SEPULVEDA BLVD &amp; CASIANO RD, LOS ANGELES, CA</td>\n",
       "      <td>SEPULVEDA BLVD</td>\n",
       "      <td>CASIANO RD</td>\n",
       "      <td>113199.0</td>\n",
       "    </tr>\n",
       "    <tr>\n",
       "      <th>...</th>\n",
       "      <td>...</td>\n",
       "      <td>...</td>\n",
       "      <td>...</td>\n",
       "      <td>...</td>\n",
       "      <td>...</td>\n",
       "      <td>...</td>\n",
       "      <td>...</td>\n",
       "      <td>...</td>\n",
       "      <td>...</td>\n",
       "      <td>...</td>\n",
       "      <td>...</td>\n",
       "      <td>...</td>\n",
       "      <td>...</td>\n",
       "      <td>...</td>\n",
       "      <td>...</td>\n",
       "      <td>...</td>\n",
       "      <td>...</td>\n",
       "      <td>...</td>\n",
       "      <td>...</td>\n",
       "      <td>...</td>\n",
       "      <td>...</td>\n",
       "    </tr>\n",
       "    <tr>\n",
       "      <th>215520</th>\n",
       "      <td>-118.304253</td>\n",
       "      <td>33.999138</td>\n",
       "      <td>215521</td>\n",
       "      <td>8187804.0</td>\n",
       "      <td>2016</td>\n",
       "      <td>2016/12/29 00:00:00+00</td>\n",
       "      <td>1942</td>\n",
       "      <td>2016/12/03 00:00:00+00</td>\n",
       "      <td>2230</td>\n",
       "      <td>36821.0</td>\n",
       "      <td>...</td>\n",
       "      <td>12</td>\n",
       "      <td>LOS ANGELES</td>\n",
       "      <td>LOS ANGELES</td>\n",
       "      <td>CA</td>\n",
       "      <td>-118.304253</td>\n",
       "      <td>33.999138</td>\n",
       "      <td>49TH ST &amp; DENKER AVE, LOS ANGELES, CA</td>\n",
       "      <td>49TH ST</td>\n",
       "      <td>DENKER AVE</td>\n",
       "      <td>106835.0</td>\n",
       "    </tr>\n",
       "    <tr>\n",
       "      <th>215530</th>\n",
       "      <td>-118.345738</td>\n",
       "      <td>34.045807</td>\n",
       "      <td>215531</td>\n",
       "      <td>8545309.0</td>\n",
       "      <td>2017</td>\n",
       "      <td>2018/02/06 00:00:00+00</td>\n",
       "      <td>1942</td>\n",
       "      <td>2017/12/16 00:00:00+00</td>\n",
       "      <td>2245</td>\n",
       "      <td>41848.0</td>\n",
       "      <td>...</td>\n",
       "      <td>12</td>\n",
       "      <td>LOS ANGELES</td>\n",
       "      <td>LOS ANGELES</td>\n",
       "      <td>CA</td>\n",
       "      <td>-118.345738</td>\n",
       "      <td>34.045807</td>\n",
       "      <td>VENICE BLVD &amp; LA BREA AVE, LOS ANGELES, CA</td>\n",
       "      <td>VENICE BLVD</td>\n",
       "      <td>LA BREA AVE</td>\n",
       "      <td>130338.0</td>\n",
       "    </tr>\n",
       "    <tr>\n",
       "      <th>215540</th>\n",
       "      <td>-118.630842</td>\n",
       "      <td>34.162636</td>\n",
       "      <td>215541</td>\n",
       "      <td>8784982.0</td>\n",
       "      <td>2018</td>\n",
       "      <td>2019/05/24 00:00:00+00</td>\n",
       "      <td>1942</td>\n",
       "      <td>2018/12/19 00:00:00+00</td>\n",
       "      <td>2240</td>\n",
       "      <td>40353.0</td>\n",
       "      <td>...</td>\n",
       "      <td>12</td>\n",
       "      <td>LOS ANGELES</td>\n",
       "      <td>LOS ANGELES</td>\n",
       "      <td>CA</td>\n",
       "      <td>-118.630842</td>\n",
       "      <td>34.162636</td>\n",
       "      <td>VENTURA BLVD &amp; WOODLAKE AVE, LOS ANGELES, CA</td>\n",
       "      <td>VENTURA BLVD</td>\n",
       "      <td>WOODLAKE AVE</td>\n",
       "      <td>130909.0</td>\n",
       "    </tr>\n",
       "    <tr>\n",
       "      <th>215550</th>\n",
       "      <td>-118.213052</td>\n",
       "      <td>34.041145</td>\n",
       "      <td>215551</td>\n",
       "      <td>8797458.0</td>\n",
       "      <td>2018</td>\n",
       "      <td>2019/02/08 00:00:00+00</td>\n",
       "      <td>1942</td>\n",
       "      <td>2018/12/23 00:00:00+00</td>\n",
       "      <td>2130</td>\n",
       "      <td>43301.0</td>\n",
       "      <td>...</td>\n",
       "      <td>12</td>\n",
       "      <td>LOS ANGELES</td>\n",
       "      <td>LOS ANGELES</td>\n",
       "      <td>CA</td>\n",
       "      <td>-118.213052</td>\n",
       "      <td>34.041145</td>\n",
       "      <td>4TH ST &amp; BREED ST, LOS ANGELES, CA</td>\n",
       "      <td>4TH ST</td>\n",
       "      <td>BREED ST</td>\n",
       "      <td>114069.0</td>\n",
       "    </tr>\n",
       "    <tr>\n",
       "      <th>215560</th>\n",
       "      <td>-118.495082</td>\n",
       "      <td>34.134964</td>\n",
       "      <td>215561</td>\n",
       "      <td>8525998.0</td>\n",
       "      <td>2017</td>\n",
       "      <td>2018/02/01 00:00:00+00</td>\n",
       "      <td>1942</td>\n",
       "      <td>2017/12/10 00:00:00+00</td>\n",
       "      <td>2320</td>\n",
       "      <td>41829.0</td>\n",
       "      <td>...</td>\n",
       "      <td>12</td>\n",
       "      <td>LOS ANGELES</td>\n",
       "      <td>LOS ANGELES</td>\n",
       "      <td>CA</td>\n",
       "      <td>-118.495082</td>\n",
       "      <td>34.134964</td>\n",
       "      <td>CALNEVA DR &amp; ALGINET DR, LOS ANGELES, CA</td>\n",
       "      <td>CALNEVA DR</td>\n",
       "      <td>ALGINET DR</td>\n",
       "      <td>108285.0</td>\n",
       "    </tr>\n",
       "  </tbody>\n",
       "</table>\n",
       "<p>21557 rows × 90 columns</p>\n",
       "</div>"
      ],
      "text/plain": [
       "                 X          Y  OBJECTID    case_id  accident_year  \\\n",
       "0      -118.448792  34.221439         1  6403396.0           2014   \n",
       "10     -118.387816  34.207829        11  6869261.0           2015   \n",
       "20     -118.450022  34.307835        21  6403353.0           2014   \n",
       "30     -118.277772  33.982395        31  6364839.0           2014   \n",
       "40     -118.472951  34.081326        41  7186311.0           2016   \n",
       "...            ...        ...       ...        ...            ...   \n",
       "215520 -118.304253  33.999138    215521  8187804.0           2016   \n",
       "215530 -118.345738  34.045807    215531  8545309.0           2017   \n",
       "215540 -118.630842  34.162636    215541  8784982.0           2018   \n",
       "215550 -118.213052  34.041145    215551  8797458.0           2018   \n",
       "215560 -118.495082  34.134964    215561  8525998.0           2017   \n",
       "\n",
       "                     proc_date  juris          collision_date  collision_time  \\\n",
       "0       2015/03/03 00:00:00+00   1942  2014/03/10 00:00:00+00             820   \n",
       "10      2015/04/18 00:00:00+00   1942  2015/03/24 00:00:00+00             735   \n",
       "20      2015/03/02 00:00:00+00   1942  2014/03/11 00:00:00+00             732   \n",
       "30      2015/01/06 00:00:00+00   1942  2014/01/26 00:00:00+00             210   \n",
       "40      2016/03/03 00:00:00+00   1942  2016/01/20 00:00:00+00             600   \n",
       "...                        ...    ...                     ...             ...   \n",
       "215520  2016/12/29 00:00:00+00   1942  2016/12/03 00:00:00+00            2230   \n",
       "215530  2018/02/06 00:00:00+00   1942  2017/12/16 00:00:00+00            2245   \n",
       "215540  2019/05/24 00:00:00+00   1942  2018/12/19 00:00:00+00            2240   \n",
       "215550  2019/02/08 00:00:00+00   1942  2018/12/23 00:00:00+00            2130   \n",
       "215560  2018/02/01 00:00:00+00   1942  2017/12/10 00:00:00+00            2320   \n",
       "\n",
       "        officer_id  ... month_         city       county  state     point_x  \\\n",
       "0          40735.0  ...      3  LOS ANGELES  LOS ANGELES     CA -118.448792   \n",
       "10         39724.0  ...      3  LOS ANGELES  LOS ANGELES     CA -118.387816   \n",
       "20         33340.0  ...      3  LOS ANGELES  LOS ANGELES     CA -118.450022   \n",
       "30         31080.0  ...      1  LOS ANGELES  LOS ANGELES     CA -118.277772   \n",
       "40         41578.0  ...      1  LOS ANGELES  LOS ANGELES     CA -118.472951   \n",
       "...            ...  ...    ...          ...          ...    ...         ...   \n",
       "215520     36821.0  ...     12  LOS ANGELES  LOS ANGELES     CA -118.304253   \n",
       "215530     41848.0  ...     12  LOS ANGELES  LOS ANGELES     CA -118.345738   \n",
       "215540     40353.0  ...     12  LOS ANGELES  LOS ANGELES     CA -118.630842   \n",
       "215550     43301.0  ...     12  LOS ANGELES  LOS ANGELES     CA -118.213052   \n",
       "215560     41829.0  ...     12  LOS ANGELES  LOS ANGELES     CA -118.495082   \n",
       "\n",
       "          point_y                                     match_addr  \\\n",
       "0       34.221439   VAN NUYS BLVD & ROSCOE BLVD, LOS ANGELES, CA   \n",
       "10      34.207829  LANKERSHIM BLVD & SATICOY ST, LOS ANGELES, CA   \n",
       "20      34.307835       GLENOAKS BLVD & POLK ST, LOS ANGELES, CA   \n",
       "30      33.982395           GAGE AVE & BROADWAY, LOS ANGELES, CA   \n",
       "40      34.081326   SEPULVEDA BLVD & CASIANO RD, LOS ANGELES, CA   \n",
       "...           ...                                            ...   \n",
       "215520  33.999138          49TH ST & DENKER AVE, LOS ANGELES, CA   \n",
       "215530  34.045807     VENICE BLVD & LA BREA AVE, LOS ANGELES, CA   \n",
       "215540  34.162636   VENTURA BLVD & WOODLAKE AVE, LOS ANGELES, CA   \n",
       "215550  34.041145             4TH ST & BREED ST, LOS ANGELES, CA   \n",
       "215560  34.134964       CALNEVA DR & ALGINET DR, LOS ANGELES, CA   \n",
       "\n",
       "            m_primaryrd    m_secondrd    int_id  \n",
       "0         VAN NUYS BLVD   ROSCOE BLVD  104975.0  \n",
       "10      LANKERSHIM BLVD    SATICOY ST  118685.0  \n",
       "20        GLENOAKS BLVD       POLK ST  115671.0  \n",
       "30             GAGE AVE      BROADWAY  106643.0  \n",
       "40       SEPULVEDA BLVD    CASIANO RD  113199.0  \n",
       "...                 ...           ...       ...  \n",
       "215520          49TH ST    DENKER AVE  106835.0  \n",
       "215530      VENICE BLVD   LA BREA AVE  130338.0  \n",
       "215540     VENTURA BLVD  WOODLAKE AVE  130909.0  \n",
       "215550           4TH ST      BREED ST  114069.0  \n",
       "215560       CALNEVA DR    ALGINET DR  108285.0  \n",
       "\n",
       "[21557 rows x 90 columns]"
      ]
     },
     "execution_count": 4,
     "metadata": {},
     "output_type": "execute_result"
    }
   ],
   "source": [
    "# checking the dataset by printing every 10 lines:\n",
    "sw_df[0::10]"
   ]
  },
  {
   "cell_type": "markdown",
   "metadata": {},
   "source": [
    "# Part C"
   ]
  },
  {
   "cell_type": "code",
   "execution_count": 5,
   "metadata": {},
   "outputs": [
    {
     "data": {
      "text/html": [
       "<div>\n",
       "<style scoped>\n",
       "    .dataframe tbody tr th:only-of-type {\n",
       "        vertical-align: middle;\n",
       "    }\n",
       "\n",
       "    .dataframe tbody tr th {\n",
       "        vertical-align: top;\n",
       "    }\n",
       "\n",
       "    .dataframe thead th {\n",
       "        text-align: right;\n",
       "    }\n",
       "</style>\n",
       "<table border=\"1\" class=\"dataframe\">\n",
       "  <thead>\n",
       "    <tr style=\"text-align: right;\">\n",
       "      <th></th>\n",
       "      <th>X</th>\n",
       "      <th>Y</th>\n",
       "      <th>number_killed</th>\n",
       "      <th>number_injured</th>\n",
       "      <th>count_severe_inj</th>\n",
       "      <th>count_visible_inj</th>\n",
       "      <th>count_ped_killed</th>\n",
       "      <th>count_ped_injured</th>\n",
       "      <th>count_bicyclist_killed</th>\n",
       "      <th>count_bicyclist_injured</th>\n",
       "      <th>count_mc_killed</th>\n",
       "      <th>count_mc_injured</th>\n",
       "    </tr>\n",
       "  </thead>\n",
       "  <tbody>\n",
       "    <tr>\n",
       "      <th>0</th>\n",
       "      <td>-118.448792</td>\n",
       "      <td>34.221439</td>\n",
       "      <td>0</td>\n",
       "      <td>0</td>\n",
       "      <td>0</td>\n",
       "      <td>0</td>\n",
       "      <td>0</td>\n",
       "      <td>0</td>\n",
       "      <td>0</td>\n",
       "      <td>0</td>\n",
       "      <td>0</td>\n",
       "      <td>0</td>\n",
       "    </tr>\n",
       "    <tr>\n",
       "      <th>1</th>\n",
       "      <td>-118.429549</td>\n",
       "      <td>33.992874</td>\n",
       "      <td>0</td>\n",
       "      <td>0</td>\n",
       "      <td>0</td>\n",
       "      <td>0</td>\n",
       "      <td>0</td>\n",
       "      <td>0</td>\n",
       "      <td>0</td>\n",
       "      <td>0</td>\n",
       "      <td>0</td>\n",
       "      <td>0</td>\n",
       "    </tr>\n",
       "    <tr>\n",
       "      <th>2</th>\n",
       "      <td>-118.535527</td>\n",
       "      <td>34.174896</td>\n",
       "      <td>0</td>\n",
       "      <td>0</td>\n",
       "      <td>0</td>\n",
       "      <td>0</td>\n",
       "      <td>0</td>\n",
       "      <td>0</td>\n",
       "      <td>0</td>\n",
       "      <td>0</td>\n",
       "      <td>0</td>\n",
       "      <td>0</td>\n",
       "    </tr>\n",
       "    <tr>\n",
       "      <th>3</th>\n",
       "      <td>-118.328442</td>\n",
       "      <td>34.032585</td>\n",
       "      <td>0</td>\n",
       "      <td>2</td>\n",
       "      <td>0</td>\n",
       "      <td>1</td>\n",
       "      <td>0</td>\n",
       "      <td>0</td>\n",
       "      <td>0</td>\n",
       "      <td>0</td>\n",
       "      <td>0</td>\n",
       "      <td>0</td>\n",
       "    </tr>\n",
       "    <tr>\n",
       "      <th>4</th>\n",
       "      <td>-118.354902</td>\n",
       "      <td>34.041447</td>\n",
       "      <td>0</td>\n",
       "      <td>1</td>\n",
       "      <td>0</td>\n",
       "      <td>0</td>\n",
       "      <td>0</td>\n",
       "      <td>1</td>\n",
       "      <td>0</td>\n",
       "      <td>0</td>\n",
       "      <td>0</td>\n",
       "      <td>0</td>\n",
       "    </tr>\n",
       "  </tbody>\n",
       "</table>\n",
       "</div>"
      ],
      "text/plain": [
       "            X          Y  number_killed  number_injured  count_severe_inj  \\\n",
       "0 -118.448792  34.221439              0               0                 0   \n",
       "1 -118.429549  33.992874              0               0                 0   \n",
       "2 -118.535527  34.174896              0               0                 0   \n",
       "3 -118.328442  34.032585              0               2                 0   \n",
       "4 -118.354902  34.041447              0               1                 0   \n",
       "\n",
       "   count_visible_inj  count_ped_killed  count_ped_injured  \\\n",
       "0                  0                 0                  0   \n",
       "1                  0                 0                  0   \n",
       "2                  0                 0                  0   \n",
       "3                  1                 0                  0   \n",
       "4                  0                 0                  1   \n",
       "\n",
       "   count_bicyclist_killed  count_bicyclist_injured  count_mc_killed  \\\n",
       "0                       0                        0                0   \n",
       "1                       0                        0                0   \n",
       "2                       0                        0                0   \n",
       "3                       0                        0                0   \n",
       "4                       0                        0                0   \n",
       "\n",
       "   count_mc_injured  \n",
       "0                 0  \n",
       "1                 0  \n",
       "2                 0  \n",
       "3                 0  \n",
       "4                 0  "
      ]
     },
     "execution_count": 5,
     "metadata": {},
     "output_type": "execute_result"
    }
   ],
   "source": [
    "# Creating the Feature Matrix for iris dataset:\n",
    "\n",
    "# create a python list of feature names that would like to pick from the dataset:\n",
    "feature_cols = ['X','Y','number_killed','number_injured', 'count_severe_inj', 'count_visible_inj', 'count_ped_killed', 'count_ped_injured', 'count_bicyclist_killed', 'count_bicyclist_injured', 'count_mc_killed', 'count_mc_injured']\n",
    "\n",
    "# use the above list to select the features from the original DataFrame\n",
    "X = sw_df[feature_cols]  \n",
    "\n",
    "# print the first 5 rows\n",
    "X.head()"
   ]
  },
  {
   "cell_type": "code",
   "execution_count": 6,
   "metadata": {},
   "outputs": [
    {
     "data": {
      "text/plain": [
       "0         0\n",
       "10        4\n",
       "20        0\n",
       "30        0\n",
       "40        0\n",
       "         ..\n",
       "215520    0\n",
       "215530    0\n",
       "215540    4\n",
       "215550    4\n",
       "215560    0\n",
       "Name: collision_severity, Length: 21557, dtype: int64"
      ]
     },
     "execution_count": 6,
     "metadata": {},
     "output_type": "execute_result"
    }
   ],
   "source": [
    "# select a Series of labels (the last column) from the DataFrame\n",
    "y = sw_df['collision_severity']\n",
    "\n",
    "# checking the label vector by printing every 10 values\n",
    "y[::10]"
   ]
  },
  {
   "cell_type": "markdown",
   "metadata": {},
   "source": [
    "# Part D"
   ]
  },
  {
   "cell_type": "code",
   "execution_count": 7,
   "metadata": {},
   "outputs": [],
   "source": [
    "from sklearn.model_selection import train_test_split\n",
    "\n",
    "X_train, X_test, y_train, y_test = train_test_split(X, y, test_size=0.25, random_state=6)"
   ]
  },
  {
   "cell_type": "markdown",
   "metadata": {},
   "source": [
    "# Part E"
   ]
  },
  {
   "cell_type": "markdown",
   "metadata": {},
   "source": [
    "#### KNN:"
   ]
  },
  {
   "cell_type": "code",
   "execution_count": 8,
   "metadata": {},
   "outputs": [
    {
     "name": "stdout",
     "output_type": "stream",
     "text": [
      "0.9991093297706524\n"
     ]
    }
   ],
   "source": [
    "from sklearn.model_selection import train_test_split\n",
    "\n",
    "k = 3\n",
    "my_knn = KNeighborsClassifier(n_neighbors=k)\n",
    "my_knn.fit(X_train, y_train)\n",
    "y_predict_knn = my_knn.predict(X_test)\n",
    "accuracy = accuracy_score(y_test, y_predict_knn)\n",
    "\n",
    "print(accuracy)"
   ]
  },
  {
   "cell_type": "markdown",
   "metadata": {},
   "source": [
    "#### Decision Tree:"
   ]
  },
  {
   "cell_type": "code",
   "execution_count": 9,
   "metadata": {},
   "outputs": [
    {
     "name": "stdout",
     "output_type": "stream",
     "text": [
      "0.9995175536257701\n"
     ]
    }
   ],
   "source": [
    "from sklearn.model_selection import train_test_split\n",
    "\n",
    "my_decisiontree = DecisionTreeClassifier(random_state = 5)\n",
    "my_decisiontree.fit(X_train, y_train)\n",
    "y_predict_dt = my_decisiontree.predict(X_test)\n",
    "accuracy = accuracy_score(y_test, y_predict_dt)\n",
    "\n",
    "print(accuracy)"
   ]
  },
  {
   "cell_type": "markdown",
   "metadata": {},
   "source": [
    "#### Logistic Regression:"
   ]
  },
  {
   "cell_type": "code",
   "execution_count": 10,
   "metadata": {},
   "outputs": [
    {
     "name": "stdout",
     "output_type": "stream",
     "text": [
      "0.9996288874044386\n"
     ]
    }
   ],
   "source": [
    "from sklearn.model_selection import train_test_split\n",
    "\n",
    "my_logreg = LogisticRegression(max_iter = 7600)\n",
    "my_logreg.fit(X_train, y_train)\n",
    "y_predict_lr = my_logreg.predict(X_test)\n",
    "accuracy = accuracy_score(y_test, y_predict_lr)\n",
    "\n",
    "print(accuracy)"
   ]
  },
  {
   "cell_type": "markdown",
   "metadata": {},
   "source": [
    "# Part H"
   ]
  },
  {
   "cell_type": "markdown",
   "metadata": {},
   "source": [
    "#### KNN:"
   ]
  },
  {
   "cell_type": "code",
   "execution_count": 11,
   "metadata": {},
   "outputs": [],
   "source": [
    "from sklearn.model_selection import cross_val_score"
   ]
  },
  {
   "cell_type": "code",
   "execution_count": 12,
   "metadata": {},
   "outputs": [
    {
     "name": "stdout",
     "output_type": "stream",
     "text": [
      "[0.99939695 0.99948972 0.99809807 0.99953611 0.99967528 0.99948972\n",
      " 0.99962889 0.99953609 0.99930414 0.99962887]\n"
     ]
    }
   ],
   "source": [
    "# Applying 10-fold cross validation with \"logistic regression\" classifier:\n",
    "\n",
    "# In the following line, \"my_logreg\" is instantiated as an \"object\" of LogisticRegression \"class\". \n",
    "k = 3\n",
    "my_knn = KNeighborsClassifier(n_neighbors=k)\n",
    "# function cross_val_score performs Cross Validation:\n",
    "accuracy_list = cross_val_score(my_knn, X, y, cv=10, scoring='accuracy')\n",
    "\n",
    "print(accuracy_list)"
   ]
  },
  {
   "cell_type": "code",
   "execution_count": 13,
   "metadata": {},
   "outputs": [
    {
     "name": "stdout",
     "output_type": "stream",
     "text": [
      "0.9993783850679765\n"
     ]
    }
   ],
   "source": [
    "# use average of accuracy values as final result\n",
    "accuracy_cv = accuracy_list.mean()\n",
    "\n",
    "print(accuracy_cv)"
   ]
  },
  {
   "cell_type": "markdown",
   "metadata": {},
   "source": [
    "#### Decision Tree:"
   ]
  },
  {
   "cell_type": "code",
   "execution_count": 14,
   "metadata": {},
   "outputs": [],
   "source": [
    "from sklearn.model_selection import cross_val_score"
   ]
  },
  {
   "cell_type": "code",
   "execution_count": 15,
   "metadata": {},
   "outputs": [
    {
     "name": "stdout",
     "output_type": "stream",
     "text": [
      "[0.99962889 0.99986083 0.99851556 0.99981445 0.99953611 0.99986083\n",
      " 0.99972167 0.99976805 0.99958248 0.99986083]\n"
     ]
    }
   ],
   "source": [
    "# Applying 10-fold cross validation with \"logistic regression\" classifier:\n",
    "\n",
    "# In the following line, \"my_logreg\" is instantiated as an \"object\" of LogisticRegression \"class\". \n",
    "my_decisiontree = DecisionTreeClassifier(random_state = 5)\n",
    "# function cross_val_score performs Cross Validation:\n",
    "accuracy_list = cross_val_score(my_decisiontree, X, y, cv=10, scoring='accuracy')\n",
    "\n",
    "print(accuracy_list)"
   ]
  },
  {
   "cell_type": "code",
   "execution_count": 16,
   "metadata": {},
   "outputs": [
    {
     "name": "stdout",
     "output_type": "stream",
     "text": [
      "0.9996149705958921\n"
     ]
    }
   ],
   "source": [
    "# use average of accuracy values as final result\n",
    "accuracy_cv = accuracy_list.mean()\n",
    "\n",
    "print(accuracy_cv)"
   ]
  },
  {
   "cell_type": "markdown",
   "metadata": {},
   "source": [
    "#### Logistic regression"
   ]
  },
  {
   "cell_type": "code",
   "execution_count": 17,
   "metadata": {},
   "outputs": [],
   "source": [
    "from sklearn.model_selection import cross_val_score"
   ]
  },
  {
   "cell_type": "code",
   "execution_count": 19,
   "metadata": {},
   "outputs": [
    {
     "name": "stdout",
     "output_type": "stream",
     "text": [
      "[0.99967528 0.99976806 0.99851556 0.99995361 0.99995361 1.\n",
      " 0.99986083 0.99981444 1.         1.        ]\n"
     ]
    }
   ],
   "source": [
    "# Applying 10-fold cross validation with \"logistic regression\" classifier:\n",
    "\n",
    "# In the following line, \"my_logreg\" is instantiated as an \"object\" of LogisticRegression \"class\". \n",
    "my_logreg = LogisticRegression(max_iter=7600)\n",
    "\n",
    "# function cross_val_score performs Cross Validation:\n",
    "accuracy_list = cross_val_score(my_logreg, X, y, cv=10, scoring='accuracy')\n",
    "\n",
    "print(accuracy_list)"
   ]
  },
  {
   "cell_type": "code",
   "execution_count": 20,
   "metadata": {},
   "outputs": [
    {
     "name": "stdout",
     "output_type": "stream",
     "text": [
      "0.9997541393256799\n"
     ]
    }
   ],
   "source": [
    "# use average of accuracy values as final result\n",
    "accuracy_cv = accuracy_list.mean()\n",
    "\n",
    "print(accuracy_cv)"
   ]
  },
  {
   "cell_type": "markdown",
   "metadata": {},
   "source": [
    "As we can see, Logistic Regression was the best. Overall it was the best to use whether we slpit the data or used cross-validation."
   ]
  }
 ],
 "metadata": {
  "anaconda-cloud": {},
  "kernelspec": {
   "display_name": "Python 3",
   "language": "python",
   "name": "python3"
  },
  "language_info": {
   "codemirror_mode": {
    "name": "ipython",
    "version": 3
   },
   "file_extension": ".py",
   "mimetype": "text/x-python",
   "name": "python",
   "nbconvert_exporter": "python",
   "pygments_lexer": "ipython3",
   "version": "3.8.3"
  }
 },
 "nbformat": 4,
 "nbformat_minor": 1
}
